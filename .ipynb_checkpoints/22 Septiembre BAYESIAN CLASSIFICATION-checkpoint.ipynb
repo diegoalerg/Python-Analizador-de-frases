{
 "cells": [
  {
   "cell_type": "code",
   "execution_count": 13,
   "metadata": {},
   "outputs": [],
   "source": [
    "#Determinamos a traves de Bayesiano, el tercer metodo de clasificacion, si la frase es positiva en negativa\n",
    "#1 armar el vocabulario de las frases"
   ]
  },
  {
   "cell_type": "code",
   "execution_count": 16,
   "metadata": {},
   "outputs": [
    {
     "name": "stdout",
     "output_type": "stream",
     "text": [
      "THE POLARITY OF The film is really nasty and boring IS negative\n",
      "THE POLARITY OF  The actor is wonderful and very handsome IS positive\n",
      "THE POLARITY OF This class is magic IS positive\n"
     ]
    }
   ],
   "source": [
    "from sklearn.feature_extraction.text import CountVectorizer\n",
    "import numpy as np\n",
    "\n",
    "with open(\"./downloads/reviews.txt\") as rv:\n",
    "    reviews = rv.read().split(\"\\n\")\n",
    "with open(\"./downloads/labels.txt\") as lb:\n",
    "    labels = lb.read().split(\"\\n\")\n",
    "    \n",
    "reviews_tokens = [review.split() for review in reviews]\n",
    "\n",
    "vectorizer = CountVectorizer(\n",
    "        analyzer = 'word', #PUEDE TENER UNA FUNCION EN LA QUE DEFINO CUALES SON LOS DATOS QUE INTERESAN\n",
    ")\n",
    "\n",
    "X = vectorizer.fit_transform(reviews) #fit aplica un modelo abstracto y los datos, pero con el transform vuelve las palabras a vector\n",
    "#Matriz con los vectores\n",
    "X_train = X.toarray() #to array lo vuelve array\n",
    "\n",
    "y_train = labels\n",
    "\n",
    "\n",
    "\n",
    "\n",
    "new_opinions = ['The film is really nasty and boring', ' The actor is wonderful and very handsome', 'This class is magic']\n",
    "\n",
    "X1 = vectorizer.transform(new_opinions) #transformo las opiniones en vector\n",
    "\n",
    "y_pred = bayes_model.predict(X1)\n",
    "\n",
    "for i in range(len(new_opinions)):\n",
    "    print(\"THE POLARITY OF\", new_opinions[i], \"IS\", y_pred[i])"
   ]
  },
  {
   "cell_type": "code",
   "execution_count": 17,
   "metadata": {},
   "outputs": [
    {
     "name": "stdout",
     "output_type": "stream",
     "text": [
      "Model Accuracy: 0.88\n"
     ]
    }
   ],
   "source": [
    "import sklearn.svm\n",
    "\n",
    "#ENTRENAMIENTO DEL ALGORITMO\n",
    "from sklearn.model_selection import train_test_split #70% entrenamiento 30%evaluacion\n",
    "\n",
    "\n",
    "X_train,X_test,y_train,y_test = train_test_split(X,y_train,test_size=0.3,random_state=42) #establece como fijo los datos que van a train y a test\n",
    "\n",
    "#se suelen cambiar los datos par train para evirar el overfeating \n",
    "\n",
    "from sklearn.naive_bayes import MultinomialNB #NB de Naive Bayesian\n",
    "\n",
    "classifier = MultinomialNB() #Definicion del clasificador bayesiano\n",
    "\n",
    "bayes_model = classifier.fit(X=X_train, y =y_train) #Entrenamiento del clasidicador aplicando el metodo al corpus de entrenamiento\n",
    "\n",
    "#Prediccion\n",
    "\n",
    "#classifier = sklearn.svm.LinearSVC() #definimos el clasificador\n",
    "#aplicar el algoritmo de svm a los datos de entrenamiento\n",
    "NB_model = classifier.fit(X=X_train, y=y_train) #donde x_train es la matriz con los vectores cada vector es una opinion\n",
    "                                                    #y_train son los outcomes las valoraciones\n",
    "\n",
    "\n",
    "#Predecir a  polaridad de las nuevas opiniones\n",
    "\n",
    "y_pred = NB_model.predict(X_test)\n",
    "\n",
    "#print(y_pred)\n",
    "    \n",
    "#new_opinions = ['The film is really nasty and boring', 'The actor is wonderful and very handsome', 'this is a fucking piece of shit','this is wild']\n",
    "\n",
    "#vectorizar las nuevas opiniones\n",
    "\n",
    "#X1 = vectorizer.transform(new_opinions)\n",
    "\n",
    "\n",
    "\n",
    "#Calculamos el accuarancy \n",
    "\n",
    "from sklearn import metrics\n",
    "\n",
    "print(\"Model Accuracy: {0:.2f}\".format(metrics.accuracy_score(y_test, y_pred)))"
   ]
  },
  {
   "cell_type": "code",
   "execution_count": null,
   "metadata": {},
   "outputs": [],
   "source": []
  }
 ],
 "metadata": {
  "kernelspec": {
   "display_name": "Python 3",
   "language": "python",
   "name": "python3"
  },
  "language_info": {
   "codemirror_mode": {
    "name": "ipython",
    "version": 3
   },
   "file_extension": ".py",
   "mimetype": "text/x-python",
   "name": "python",
   "nbconvert_exporter": "python",
   "pygments_lexer": "ipython3",
   "version": "3.7.4"
  }
 },
 "nbformat": 4,
 "nbformat_minor": 2
}
